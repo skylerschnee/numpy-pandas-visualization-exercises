{
 "cells": [
  {
   "cell_type": "markdown",
   "id": "2d45f3d2",
   "metadata": {},
   "source": [
    "<div class=\"alert alert-block alert-success\">\n",
    "    \n",
    "## Data Science Libraries Quiz"
   ]
  },
  {
   "cell_type": "markdown",
   "id": "ef7573e4",
   "metadata": {},
   "source": [
    "### Instructions\n",
    "\n",
    "\n",
    "1. Write code which will produce the specified result.  \n",
    "2. Enter that result in the green response cell. \n",
    "3. Write comment(s) to describe the code \n",
    "\n",
    "\n",
    "To receive full credit, make sure you have at least 1 cell with code and an answer in the green response cell. \n",
    "\n",
    "\n",
    "\n",
    "#### Reminders\n",
    "\n",
    "1. Complete the work without the help of others.\n",
    "2. You can receive partial credit for your code.\n",
    "\n",
    "\n"
   ]
  },
  {
   "cell_type": "markdown",
   "id": "f6a35d03",
   "metadata": {},
   "source": [
    "\n",
    "---\n",
    "<div class=\"alert alert-block alert-success\">\n",
    "\n",
    "### Rubric (50 points total)"
   ]
  },
  {
   "cell_type": "markdown",
   "id": "9b1e2aea",
   "metadata": {},
   "source": [
    "\n",
    "#### Dataframes Exercises (8)\n",
    "##### Total points = 5\n",
    "| Description |  Points | \n",
    "| ---- | ---- |\n",
    "| No attempt | 0   |\n",
    "| Correct result | 2  |\n",
    "| Appropriate functions | 1 \n",
    "| Appropriate syntax | 1 \n",
    "| Code comments | 1 | \n",
    "\n",
    "#### Visualization Exercises (2)\n",
    "\n",
    "##### Total points = 5\n",
    "\n",
    "| Description |  Points | \n",
    "| ---- | ---- |\n",
    "| No attempt | 0   |\n",
    "| Plotted data | 2  |\n",
    "| Axis labels | 1 | \n",
    "| Titles | 1 |\n",
    "| Customization | 1 | "
   ]
  },
  {
   "cell_type": "markdown",
   "id": "00089e29",
   "metadata": {},
   "source": [
    "<div class=\"alert alert-block alert-info\">\n",
    "\n",
    "### Setup\n",
    " \n",
    "1. Run the import statements\n",
    "2. Load the datset `'tips'` from pydataset.\n",
    "3. Assign this to the dataframe `df`."
   ]
  },
  {
   "cell_type": "code",
   "execution_count": 1,
   "id": "7518c63f",
   "metadata": {},
   "outputs": [],
   "source": [
    "# Import statements\n",
    "from pydataset import data\n",
    "import pandas as pd\n",
    "import matplotlib.pyplot as plt"
   ]
  },
  {
   "cell_type": "code",
   "execution_count": 63,
   "id": "865d50ed",
   "metadata": {},
   "outputs": [],
   "source": [
    "# Load the dataframe from pydataset\n",
    "# Assign to df \n",
    "df = data('tips')"
   ]
  },
  {
   "cell_type": "code",
   "execution_count": 18,
   "id": "53064bf8",
   "metadata": {},
   "outputs": [
    {
     "data": {
      "text/html": [
       "<div>\n",
       "<style scoped>\n",
       "    .dataframe tbody tr th:only-of-type {\n",
       "        vertical-align: middle;\n",
       "    }\n",
       "\n",
       "    .dataframe tbody tr th {\n",
       "        vertical-align: top;\n",
       "    }\n",
       "\n",
       "    .dataframe thead th {\n",
       "        text-align: right;\n",
       "    }\n",
       "</style>\n",
       "<table border=\"1\" class=\"dataframe\">\n",
       "  <thead>\n",
       "    <tr style=\"text-align: right;\">\n",
       "      <th></th>\n",
       "      <th>total_bill</th>\n",
       "      <th>tip</th>\n",
       "      <th>sex</th>\n",
       "      <th>smoker</th>\n",
       "      <th>day</th>\n",
       "      <th>time</th>\n",
       "      <th>size</th>\n",
       "    </tr>\n",
       "  </thead>\n",
       "  <tbody>\n",
       "    <tr>\n",
       "      <th>1</th>\n",
       "      <td>16.99</td>\n",
       "      <td>1.01</td>\n",
       "      <td>Female</td>\n",
       "      <td>No</td>\n",
       "      <td>Sun</td>\n",
       "      <td>Dinner</td>\n",
       "      <td>2</td>\n",
       "    </tr>\n",
       "    <tr>\n",
       "      <th>2</th>\n",
       "      <td>10.34</td>\n",
       "      <td>1.66</td>\n",
       "      <td>Male</td>\n",
       "      <td>No</td>\n",
       "      <td>Sun</td>\n",
       "      <td>Dinner</td>\n",
       "      <td>3</td>\n",
       "    </tr>\n",
       "    <tr>\n",
       "      <th>3</th>\n",
       "      <td>21.01</td>\n",
       "      <td>3.50</td>\n",
       "      <td>Male</td>\n",
       "      <td>No</td>\n",
       "      <td>Sun</td>\n",
       "      <td>Dinner</td>\n",
       "      <td>3</td>\n",
       "    </tr>\n",
       "    <tr>\n",
       "      <th>4</th>\n",
       "      <td>23.68</td>\n",
       "      <td>3.31</td>\n",
       "      <td>Male</td>\n",
       "      <td>No</td>\n",
       "      <td>Sun</td>\n",
       "      <td>Dinner</td>\n",
       "      <td>2</td>\n",
       "    </tr>\n",
       "    <tr>\n",
       "      <th>5</th>\n",
       "      <td>24.59</td>\n",
       "      <td>3.61</td>\n",
       "      <td>Female</td>\n",
       "      <td>No</td>\n",
       "      <td>Sun</td>\n",
       "      <td>Dinner</td>\n",
       "      <td>4</td>\n",
       "    </tr>\n",
       "    <tr>\n",
       "      <th>...</th>\n",
       "      <td>...</td>\n",
       "      <td>...</td>\n",
       "      <td>...</td>\n",
       "      <td>...</td>\n",
       "      <td>...</td>\n",
       "      <td>...</td>\n",
       "      <td>...</td>\n",
       "    </tr>\n",
       "    <tr>\n",
       "      <th>240</th>\n",
       "      <td>29.03</td>\n",
       "      <td>5.92</td>\n",
       "      <td>Male</td>\n",
       "      <td>No</td>\n",
       "      <td>Sat</td>\n",
       "      <td>Dinner</td>\n",
       "      <td>3</td>\n",
       "    </tr>\n",
       "    <tr>\n",
       "      <th>241</th>\n",
       "      <td>27.18</td>\n",
       "      <td>2.00</td>\n",
       "      <td>Female</td>\n",
       "      <td>Yes</td>\n",
       "      <td>Sat</td>\n",
       "      <td>Dinner</td>\n",
       "      <td>2</td>\n",
       "    </tr>\n",
       "    <tr>\n",
       "      <th>242</th>\n",
       "      <td>22.67</td>\n",
       "      <td>2.00</td>\n",
       "      <td>Male</td>\n",
       "      <td>Yes</td>\n",
       "      <td>Sat</td>\n",
       "      <td>Dinner</td>\n",
       "      <td>2</td>\n",
       "    </tr>\n",
       "    <tr>\n",
       "      <th>243</th>\n",
       "      <td>17.82</td>\n",
       "      <td>1.75</td>\n",
       "      <td>Male</td>\n",
       "      <td>No</td>\n",
       "      <td>Sat</td>\n",
       "      <td>Dinner</td>\n",
       "      <td>2</td>\n",
       "    </tr>\n",
       "    <tr>\n",
       "      <th>244</th>\n",
       "      <td>18.78</td>\n",
       "      <td>3.00</td>\n",
       "      <td>Female</td>\n",
       "      <td>No</td>\n",
       "      <td>Thur</td>\n",
       "      <td>Dinner</td>\n",
       "      <td>2</td>\n",
       "    </tr>\n",
       "  </tbody>\n",
       "</table>\n",
       "<p>244 rows × 7 columns</p>\n",
       "</div>"
      ],
      "text/plain": [
       "     total_bill   tip     sex smoker   day    time  size\n",
       "1         16.99  1.01  Female     No   Sun  Dinner     2\n",
       "2         10.34  1.66    Male     No   Sun  Dinner     3\n",
       "3         21.01  3.50    Male     No   Sun  Dinner     3\n",
       "4         23.68  3.31    Male     No   Sun  Dinner     2\n",
       "5         24.59  3.61  Female     No   Sun  Dinner     4\n",
       "..          ...   ...     ...    ...   ...     ...   ...\n",
       "240       29.03  5.92    Male     No   Sat  Dinner     3\n",
       "241       27.18  2.00  Female    Yes   Sat  Dinner     2\n",
       "242       22.67  2.00    Male    Yes   Sat  Dinner     2\n",
       "243       17.82  1.75    Male     No   Sat  Dinner     2\n",
       "244       18.78  3.00  Female     No  Thur  Dinner     2\n",
       "\n",
       "[244 rows x 7 columns]"
      ]
     },
     "execution_count": 18,
     "metadata": {},
     "output_type": "execute_result"
    }
   ],
   "source": [
    "df"
   ]
  },
  {
   "cell_type": "markdown",
   "id": "fe27cde9",
   "metadata": {},
   "source": [
    "---\n",
    "\n",
    "<div class=\"alert alert-block alert-info\">\n",
    "  \n",
    "### Question 1\n",
    "    \n",
    "        \n",
    "a) What is the highest bill?\n",
    "    \n",
    "b) What time of day did this bill occur? "
   ]
  },
  {
   "cell_type": "markdown",
   "id": "1fa0a01a",
   "metadata": {},
   "source": []
  },
  {
   "cell_type": "code",
   "execution_count": 22,
   "id": "64de8b33",
   "metadata": {},
   "outputs": [
    {
     "data": {
      "text/html": [
       "<div>\n",
       "<style scoped>\n",
       "    .dataframe tbody tr th:only-of-type {\n",
       "        vertical-align: middle;\n",
       "    }\n",
       "\n",
       "    .dataframe tbody tr th {\n",
       "        vertical-align: top;\n",
       "    }\n",
       "\n",
       "    .dataframe thead th {\n",
       "        text-align: right;\n",
       "    }\n",
       "</style>\n",
       "<table border=\"1\" class=\"dataframe\">\n",
       "  <thead>\n",
       "    <tr style=\"text-align: right;\">\n",
       "      <th></th>\n",
       "      <th>total_bill</th>\n",
       "      <th>tip</th>\n",
       "      <th>sex</th>\n",
       "      <th>smoker</th>\n",
       "      <th>day</th>\n",
       "      <th>time</th>\n",
       "      <th>size</th>\n",
       "    </tr>\n",
       "  </thead>\n",
       "  <tbody>\n",
       "    <tr>\n",
       "      <th>171</th>\n",
       "      <td>50.81</td>\n",
       "      <td>10.0</td>\n",
       "      <td>Male</td>\n",
       "      <td>Yes</td>\n",
       "      <td>Sat</td>\n",
       "      <td>Dinner</td>\n",
       "      <td>3</td>\n",
       "    </tr>\n",
       "  </tbody>\n",
       "</table>\n",
       "</div>"
      ],
      "text/plain": [
       "     total_bill   tip   sex smoker  day    time  size\n",
       "171       50.81  10.0  Male    Yes  Sat  Dinner     3"
      ]
     },
     "execution_count": 22,
     "metadata": {},
     "output_type": "execute_result"
    }
   ],
   "source": [
    "df.sort_values(by = 'total_bill', ascending = False).head(1)\n",
    "# i pulled the total_bill col and sorted values from largest to smallest, \n",
    "#then used .head(1) to return the highest bill "
   ]
  },
  {
   "cell_type": "markdown",
   "id": "0396d4ec",
   "metadata": {},
   "source": [
    "<div class=\"alert alert-block alert-success\">\n",
    "\n",
    "### Question 1 Response\n",
    "    \n",
    "a) 50.81\n",
    "    \n",
    "b) Dinner\n"
   ]
  },
  {
   "cell_type": "markdown",
   "id": "556bf24a",
   "metadata": {},
   "source": [
    "---\n",
    "\n",
    "<div class=\"alert alert-block alert-info\">\n",
    "  \n",
    "### Question 2\n",
    "    \n",
    "    \n",
    "a) What is the most common table size?\n",
    "\n",
    "b) Are the majority of all tables smoking or non-smoking?"
   ]
  },
  {
   "cell_type": "markdown",
   "id": "87b2cb8c",
   "metadata": {},
   "source": [
    "\n"
   ]
  },
  {
   "cell_type": "code",
   "execution_count": 33,
   "id": "851c9dd3",
   "metadata": {},
   "outputs": [
    {
     "data": {
      "text/html": [
       "<div>\n",
       "<style scoped>\n",
       "    .dataframe tbody tr th:only-of-type {\n",
       "        vertical-align: middle;\n",
       "    }\n",
       "\n",
       "    .dataframe tbody tr th {\n",
       "        vertical-align: top;\n",
       "    }\n",
       "\n",
       "    .dataframe thead th {\n",
       "        text-align: right;\n",
       "    }\n",
       "</style>\n",
       "<table border=\"1\" class=\"dataframe\">\n",
       "  <thead>\n",
       "    <tr style=\"text-align: right;\">\n",
       "      <th></th>\n",
       "      <th>total_bill</th>\n",
       "      <th>tip</th>\n",
       "      <th>sex</th>\n",
       "      <th>smoker</th>\n",
       "      <th>day</th>\n",
       "      <th>time</th>\n",
       "      <th>size</th>\n",
       "    </tr>\n",
       "  </thead>\n",
       "  <tbody>\n",
       "    <tr>\n",
       "      <th>0</th>\n",
       "      <td>13.42</td>\n",
       "      <td>2.0</td>\n",
       "      <td>Male</td>\n",
       "      <td>No</td>\n",
       "      <td>Sat</td>\n",
       "      <td>Dinner</td>\n",
       "      <td>2</td>\n",
       "    </tr>\n",
       "  </tbody>\n",
       "</table>\n",
       "</div>"
      ],
      "text/plain": [
       "   total_bill  tip   sex smoker  day    time  size\n",
       "0       13.42  2.0  Male     No  Sat  Dinner     2"
      ]
     },
     "execution_count": 33,
     "metadata": {},
     "output_type": "execute_result"
    }
   ],
   "source": [
    "df.mode()\n",
    "#simply applied the .mode() function to the df to return the values with the highest frequency for each col."
   ]
  },
  {
   "cell_type": "markdown",
   "id": "f07030c8",
   "metadata": {},
   "source": [
    "<div class=\"alert alert-block alert-success\">\n",
    "\n",
    "### Question 2 Response\n",
    "    \n",
    "a) 2\n",
    "    \n",
    "b) Non-smoking\n"
   ]
  },
  {
   "cell_type": "markdown",
   "id": "b626b24b",
   "metadata": {},
   "source": [
    "---\n",
    "\n",
    "<div class=\"alert alert-block alert-info\">\n",
    "  \n",
    "### Question 3\n",
    "    \n",
    "    \n",
    "a) What proportion of the bills are from the weekend (Saturday and/or Sunday)?\n",
    "\n",
    "Note: Provide your answer rounded to two decimal places."
   ]
  },
  {
   "cell_type": "code",
   "execution_count": 24,
   "id": "72a3b6d2",
   "metadata": {},
   "outputs": [],
   "source": [
    "df['is_weekend'] = ((df.day == 'Sun')|(df.day == 'Sat'))"
   ]
  },
  {
   "cell_type": "code",
   "execution_count": 39,
   "id": "51ebfec3",
   "metadata": {},
   "outputs": [],
   "source": [
    "total_bills = df.total_bill.sum()"
   ]
  },
  {
   "cell_type": "code",
   "execution_count": 40,
   "id": "721b14a4",
   "metadata": {},
   "outputs": [],
   "source": [
    "weekend_bills = (df.total_bill[df['is_weekend']]).sum()"
   ]
  },
  {
   "cell_type": "code",
   "execution_count": 42,
   "id": "e361db36",
   "metadata": {},
   "outputs": [
    {
     "data": {
      "text/plain": [
       "0.71"
      ]
     },
     "execution_count": 42,
     "metadata": {},
     "output_type": "execute_result"
    }
   ],
   "source": [
    "weekend_proportion = weekend_bills / total_bills\n",
    "weekend_proportion.round(2)"
   ]
  },
  {
   "cell_type": "markdown",
   "id": "8f492a09",
   "metadata": {},
   "source": [
    "<div class=\"alert alert-block alert-success\">\n",
    "\n",
    "### Question 3 Response\n",
    "    \n",
    "a) 0.71\n",
    "\n"
   ]
  },
  {
   "cell_type": "markdown",
   "id": "431c62fa",
   "metadata": {},
   "source": [
    "---\n",
    "<div class=\"alert alert-block alert-info\">\n",
    "    \n",
    "## Question 4\n",
    "\n",
    "-  Create a column named `percent_tip`.\n",
    "\n",
    "\n",
    "- Calculate the percent_tip based on the formula below. \n",
    "\n",
    "\n",
    "\n",
    "$\\texttt{Percent tip} = \\dfrac{\\texttt{tip amount}}{\\texttt{bill}}$\n",
    "\n",
    "a) What was the highest percent tip?"
   ]
  },
  {
   "cell_type": "code",
   "execution_count": 45,
   "id": "b60b1962",
   "metadata": {},
   "outputs": [
    {
     "data": {
      "text/html": [
       "<div>\n",
       "<style scoped>\n",
       "    .dataframe tbody tr th:only-of-type {\n",
       "        vertical-align: middle;\n",
       "    }\n",
       "\n",
       "    .dataframe tbody tr th {\n",
       "        vertical-align: top;\n",
       "    }\n",
       "\n",
       "    .dataframe thead th {\n",
       "        text-align: right;\n",
       "    }\n",
       "</style>\n",
       "<table border=\"1\" class=\"dataframe\">\n",
       "  <thead>\n",
       "    <tr style=\"text-align: right;\">\n",
       "      <th></th>\n",
       "      <th>total_bill</th>\n",
       "      <th>tip</th>\n",
       "      <th>sex</th>\n",
       "      <th>smoker</th>\n",
       "      <th>day</th>\n",
       "      <th>time</th>\n",
       "      <th>size</th>\n",
       "      <th>percent_tip</th>\n",
       "    </tr>\n",
       "  </thead>\n",
       "  <tbody>\n",
       "    <tr>\n",
       "      <th>1</th>\n",
       "      <td>16.99</td>\n",
       "      <td>1.01</td>\n",
       "      <td>Female</td>\n",
       "      <td>No</td>\n",
       "      <td>Sat</td>\n",
       "      <td>Dinner</td>\n",
       "      <td>2</td>\n",
       "      <td>0.06</td>\n",
       "    </tr>\n",
       "    <tr>\n",
       "      <th>2</th>\n",
       "      <td>10.34</td>\n",
       "      <td>1.66</td>\n",
       "      <td>Male</td>\n",
       "      <td>No</td>\n",
       "      <td>Sat</td>\n",
       "      <td>Dinner</td>\n",
       "      <td>3</td>\n",
       "      <td>0.16</td>\n",
       "    </tr>\n",
       "    <tr>\n",
       "      <th>3</th>\n",
       "      <td>21.01</td>\n",
       "      <td>3.50</td>\n",
       "      <td>Male</td>\n",
       "      <td>No</td>\n",
       "      <td>Sat</td>\n",
       "      <td>Dinner</td>\n",
       "      <td>3</td>\n",
       "      <td>0.17</td>\n",
       "    </tr>\n",
       "    <tr>\n",
       "      <th>4</th>\n",
       "      <td>23.68</td>\n",
       "      <td>3.31</td>\n",
       "      <td>Male</td>\n",
       "      <td>No</td>\n",
       "      <td>Sat</td>\n",
       "      <td>Dinner</td>\n",
       "      <td>2</td>\n",
       "      <td>0.14</td>\n",
       "    </tr>\n",
       "    <tr>\n",
       "      <th>5</th>\n",
       "      <td>24.59</td>\n",
       "      <td>3.61</td>\n",
       "      <td>Female</td>\n",
       "      <td>No</td>\n",
       "      <td>Sat</td>\n",
       "      <td>Dinner</td>\n",
       "      <td>4</td>\n",
       "      <td>0.15</td>\n",
       "    </tr>\n",
       "    <tr>\n",
       "      <th>...</th>\n",
       "      <td>...</td>\n",
       "      <td>...</td>\n",
       "      <td>...</td>\n",
       "      <td>...</td>\n",
       "      <td>...</td>\n",
       "      <td>...</td>\n",
       "      <td>...</td>\n",
       "      <td>...</td>\n",
       "    </tr>\n",
       "    <tr>\n",
       "      <th>240</th>\n",
       "      <td>29.03</td>\n",
       "      <td>5.92</td>\n",
       "      <td>Male</td>\n",
       "      <td>No</td>\n",
       "      <td>Sat</td>\n",
       "      <td>Dinner</td>\n",
       "      <td>3</td>\n",
       "      <td>0.20</td>\n",
       "    </tr>\n",
       "    <tr>\n",
       "      <th>241</th>\n",
       "      <td>27.18</td>\n",
       "      <td>2.00</td>\n",
       "      <td>Female</td>\n",
       "      <td>Yes</td>\n",
       "      <td>Sat</td>\n",
       "      <td>Dinner</td>\n",
       "      <td>2</td>\n",
       "      <td>0.07</td>\n",
       "    </tr>\n",
       "    <tr>\n",
       "      <th>242</th>\n",
       "      <td>22.67</td>\n",
       "      <td>2.00</td>\n",
       "      <td>Male</td>\n",
       "      <td>Yes</td>\n",
       "      <td>Sat</td>\n",
       "      <td>Dinner</td>\n",
       "      <td>2</td>\n",
       "      <td>0.09</td>\n",
       "    </tr>\n",
       "    <tr>\n",
       "      <th>243</th>\n",
       "      <td>17.82</td>\n",
       "      <td>1.75</td>\n",
       "      <td>Male</td>\n",
       "      <td>No</td>\n",
       "      <td>Sat</td>\n",
       "      <td>Dinner</td>\n",
       "      <td>2</td>\n",
       "      <td>0.10</td>\n",
       "    </tr>\n",
       "    <tr>\n",
       "      <th>244</th>\n",
       "      <td>18.78</td>\n",
       "      <td>3.00</td>\n",
       "      <td>Female</td>\n",
       "      <td>No</td>\n",
       "      <td>Sat</td>\n",
       "      <td>Dinner</td>\n",
       "      <td>2</td>\n",
       "      <td>0.16</td>\n",
       "    </tr>\n",
       "  </tbody>\n",
       "</table>\n",
       "<p>244 rows × 8 columns</p>\n",
       "</div>"
      ],
      "text/plain": [
       "     total_bill   tip     sex smoker  day    time  size  percent_tip\n",
       "1         16.99  1.01  Female     No  Sat  Dinner     2         0.06\n",
       "2         10.34  1.66    Male     No  Sat  Dinner     3         0.16\n",
       "3         21.01  3.50    Male     No  Sat  Dinner     3         0.17\n",
       "4         23.68  3.31    Male     No  Sat  Dinner     2         0.14\n",
       "5         24.59  3.61  Female     No  Sat  Dinner     4         0.15\n",
       "..          ...   ...     ...    ...  ...     ...   ...          ...\n",
       "240       29.03  5.92    Male     No  Sat  Dinner     3         0.20\n",
       "241       27.18  2.00  Female    Yes  Sat  Dinner     2         0.07\n",
       "242       22.67  2.00    Male    Yes  Sat  Dinner     2         0.09\n",
       "243       17.82  1.75    Male     No  Sat  Dinner     2         0.10\n",
       "244       18.78  3.00  Female     No  Sat  Dinner     2         0.16\n",
       "\n",
       "[244 rows x 8 columns]"
      ]
     },
     "execution_count": 45,
     "metadata": {},
     "output_type": "execute_result"
    }
   ],
   "source": [
    "df['percent_tip'] = (df.tip / df.total_bill).round(2)\n",
    "df\n",
    "\n",
    "# I definded a new column as the result deviding the tip amount by the bill and rounded to 2 decimal places,\n",
    "# then called back the df to verify"
   ]
  },
  {
   "cell_type": "code",
   "execution_count": 48,
   "id": "ae7506ef",
   "metadata": {},
   "outputs": [
    {
     "data": {
      "text/html": [
       "<div>\n",
       "<style scoped>\n",
       "    .dataframe tbody tr th:only-of-type {\n",
       "        vertical-align: middle;\n",
       "    }\n",
       "\n",
       "    .dataframe tbody tr th {\n",
       "        vertical-align: top;\n",
       "    }\n",
       "\n",
       "    .dataframe thead th {\n",
       "        text-align: right;\n",
       "    }\n",
       "</style>\n",
       "<table border=\"1\" class=\"dataframe\">\n",
       "  <thead>\n",
       "    <tr style=\"text-align: right;\">\n",
       "      <th></th>\n",
       "      <th>total_bill</th>\n",
       "      <th>tip</th>\n",
       "      <th>sex</th>\n",
       "      <th>smoker</th>\n",
       "      <th>day</th>\n",
       "      <th>time</th>\n",
       "      <th>size</th>\n",
       "      <th>percent_tip</th>\n",
       "    </tr>\n",
       "  </thead>\n",
       "  <tbody>\n",
       "    <tr>\n",
       "      <th>173</th>\n",
       "      <td>7.25</td>\n",
       "      <td>5.15</td>\n",
       "      <td>Male</td>\n",
       "      <td>Yes</td>\n",
       "      <td>Sat</td>\n",
       "      <td>Dinner</td>\n",
       "      <td>2</td>\n",
       "      <td>0.71</td>\n",
       "    </tr>\n",
       "  </tbody>\n",
       "</table>\n",
       "</div>"
      ],
      "text/plain": [
       "     total_bill   tip   sex smoker  day    time  size  percent_tip\n",
       "173        7.25  5.15  Male    Yes  Sat  Dinner     2         0.71"
      ]
     },
     "execution_count": 48,
     "metadata": {},
     "output_type": "execute_result"
    }
   ],
   "source": [
    "df.sort_values(by = 'percent_tip', ascending = False).head(1)\n",
    "# i pulled the percent_tip col and sorted values from largest to smallest, \n",
    "#then used .head(1) to return the highest tip percentage of 71."
   ]
  },
  {
   "cell_type": "markdown",
   "id": "45aa998d",
   "metadata": {},
   "source": [
    "<div class=\"alert alert-block alert-success\">\n",
    "\n",
    "### Question 4 Response\n",
    "    \n",
    "a) 71%"
   ]
  },
  {
   "cell_type": "markdown",
   "id": "918f8c96",
   "metadata": {},
   "source": [
    "---\n",
    "\n",
    "<div class=\"alert alert-block alert-info\">\n",
    "    \n",
    "## Question 5\n",
    "\n",
    "    \n",
    "    \n",
    "a) Which time of day has a higher average bill, dinner or lunch?\n",
    "    \n",
    "b) What is the difference in the average bill?\n"
   ]
  },
  {
   "cell_type": "markdown",
   "id": "df3d5acc",
   "metadata": {},
   "source": []
  },
  {
   "cell_type": "code",
   "execution_count": 123,
   "id": "a3596079",
   "metadata": {},
   "outputs": [
    {
     "data": {
      "text/plain": [
       "3660.3"
      ]
     },
     "execution_count": 123,
     "metadata": {},
     "output_type": "execute_result"
    }
   ],
   "source": [
    "df.total_bill[df.time == 'Dinner'].sum() #return sum of the values for total bill where time is dinner"
   ]
  },
  {
   "cell_type": "code",
   "execution_count": 124,
   "id": "9146017f",
   "metadata": {},
   "outputs": [
    {
     "data": {
      "text/plain": [
       "1167.47"
      ]
     },
     "execution_count": 124,
     "metadata": {},
     "output_type": "execute_result"
    }
   ],
   "source": [
    "df.total_bill[df.time == 'Lunch'].sum() #return sum of the values for total bill where time is lunch"
   ]
  },
  {
   "cell_type": "code",
   "execution_count": 125,
   "id": "06e51b5b",
   "metadata": {},
   "outputs": [
    {
     "data": {
      "text/plain": [
       "3.62848262032087"
      ]
     },
     "execution_count": 125,
     "metadata": {},
     "output_type": "execute_result"
    }
   ],
   "source": [
    "(df.total_bill[df.time == 'Dinner'].mean()) - (df.total_bill[df.time == 'Lunch'].mean()) #return the mean of dinner bills - mean of lunch bills"
   ]
  },
  {
   "cell_type": "markdown",
   "id": "7400e7df",
   "metadata": {},
   "source": [
    "<div class=\"alert alert-block alert-success\">\n",
    "\n",
    "### Question 5 Response\n",
    "    \n",
    "a) Dinner\n",
    "\n",
    "b) 3.63"
   ]
  },
  {
   "cell_type": "markdown",
   "id": "bdab2f20",
   "metadata": {},
   "source": [
    "---\n",
    "<div class=\"alert alert-block alert-info\">\n",
    "    \n",
    "## Question 6\n",
    "\n",
    "\n",
    "a) What was the total revenue for the restaurant (bill and tips)\n",
    "\n",
    "b) What percentage of the revenue came from tips?\n"
   ]
  },
  {
   "cell_type": "code",
   "execution_count": 58,
   "id": "25d8e4e3",
   "metadata": {},
   "outputs": [
    {
     "data": {
      "text/plain": [
       "5559.35"
      ]
     },
     "execution_count": 58,
     "metadata": {},
     "output_type": "execute_result"
    }
   ],
   "source": [
    "df.total_bill.sum() + df.tip.sum() \n",
    "#I added the sum of the values from total_bill to the sum of the total values from tip column."
   ]
  },
  {
   "cell_type": "code",
   "execution_count": 64,
   "id": "8fd3dd7c",
   "metadata": {},
   "outputs": [
    {
     "data": {
      "text/plain": [
       "15.0"
      ]
     },
     "execution_count": 64,
     "metadata": {},
     "output_type": "execute_result"
    }
   ],
   "source": [
    "(df.tip.sum() / df.total_bill.sum()).round(2)*100\n",
    "# I took the sum of values from tip column, divided by the sum of total_bill values, then rounded and multiplied\n",
    "#by 100 to ruturn the tip revenue percentage"
   ]
  },
  {
   "cell_type": "markdown",
   "id": "0324f89f",
   "metadata": {},
   "source": [
    "<div class=\"alert alert-block alert-success\">\n",
    "\n",
    "### Question 6 Response\n",
    "    \n",
    "a) 5559.35\n",
    "\n",
    "b) 15"
   ]
  },
  {
   "cell_type": "markdown",
   "id": "ea4b4461",
   "metadata": {},
   "source": [
    "---\n",
    "<div class=\"alert alert-block alert-info\">\n",
    "    \n",
    "## Question 7\n",
    "\n",
    "The following code produces errors. \n",
    "    \n",
    "Correct it to determine the **maximum bill** for dinner time on Thursday\n",
    "    \n",
    "    \n",
    "    \n",
    "a) Describe one error in the code.\n",
    "    \n",
    "b) What is the maximum bill for dinner time on Thursday?\n",
    "\n",
    "\n"
   ]
  },
  {
   "cell_type": "markdown",
   "id": "8a1beaa7",
   "metadata": {},
   "source": [
    "#### Incorrect code\n",
    "```python\n",
    "df.total_bill( (df.day == 'Thursday') and (df.time == 'dinner') ) \n",
    "```"
   ]
  },
  {
   "cell_type": "code",
   "execution_count": 64,
   "id": "fb82964c",
   "metadata": {},
   "outputs": [
    {
     "data": {
      "text/html": [
       "<div>\n",
       "<style scoped>\n",
       "    .dataframe tbody tr th:only-of-type {\n",
       "        vertical-align: middle;\n",
       "    }\n",
       "\n",
       "    .dataframe tbody tr th {\n",
       "        vertical-align: top;\n",
       "    }\n",
       "\n",
       "    .dataframe thead th {\n",
       "        text-align: right;\n",
       "    }\n",
       "</style>\n",
       "<table border=\"1\" class=\"dataframe\">\n",
       "  <thead>\n",
       "    <tr style=\"text-align: right;\">\n",
       "      <th></th>\n",
       "      <th>total_bill</th>\n",
       "      <th>tip</th>\n",
       "      <th>sex</th>\n",
       "      <th>smoker</th>\n",
       "      <th>day</th>\n",
       "      <th>time</th>\n",
       "      <th>size</th>\n",
       "    </tr>\n",
       "  </thead>\n",
       "  <tbody>\n",
       "    <tr>\n",
       "      <th>1</th>\n",
       "      <td>16.99</td>\n",
       "      <td>1.01</td>\n",
       "      <td>Female</td>\n",
       "      <td>No</td>\n",
       "      <td>Sun</td>\n",
       "      <td>Dinner</td>\n",
       "      <td>2</td>\n",
       "    </tr>\n",
       "    <tr>\n",
       "      <th>2</th>\n",
       "      <td>10.34</td>\n",
       "      <td>1.66</td>\n",
       "      <td>Male</td>\n",
       "      <td>No</td>\n",
       "      <td>Sun</td>\n",
       "      <td>Dinner</td>\n",
       "      <td>3</td>\n",
       "    </tr>\n",
       "    <tr>\n",
       "      <th>3</th>\n",
       "      <td>21.01</td>\n",
       "      <td>3.50</td>\n",
       "      <td>Male</td>\n",
       "      <td>No</td>\n",
       "      <td>Sun</td>\n",
       "      <td>Dinner</td>\n",
       "      <td>3</td>\n",
       "    </tr>\n",
       "    <tr>\n",
       "      <th>4</th>\n",
       "      <td>23.68</td>\n",
       "      <td>3.31</td>\n",
       "      <td>Male</td>\n",
       "      <td>No</td>\n",
       "      <td>Sun</td>\n",
       "      <td>Dinner</td>\n",
       "      <td>2</td>\n",
       "    </tr>\n",
       "    <tr>\n",
       "      <th>5</th>\n",
       "      <td>24.59</td>\n",
       "      <td>3.61</td>\n",
       "      <td>Female</td>\n",
       "      <td>No</td>\n",
       "      <td>Sun</td>\n",
       "      <td>Dinner</td>\n",
       "      <td>4</td>\n",
       "    </tr>\n",
       "  </tbody>\n",
       "</table>\n",
       "</div>"
      ],
      "text/plain": [
       "   total_bill   tip     sex smoker  day    time  size\n",
       "1       16.99  1.01  Female     No  Sun  Dinner     2\n",
       "2       10.34  1.66    Male     No  Sun  Dinner     3\n",
       "3       21.01  3.50    Male     No  Sun  Dinner     3\n",
       "4       23.68  3.31    Male     No  Sun  Dinner     2\n",
       "5       24.59  3.61  Female     No  Sun  Dinner     4"
      ]
     },
     "execution_count": 64,
     "metadata": {},
     "output_type": "execute_result"
    }
   ],
   "source": [
    "df.head()"
   ]
  },
  {
   "cell_type": "code",
   "execution_count": 73,
   "id": "028955fc",
   "metadata": {},
   "outputs": [
    {
     "data": {
      "text/plain": [
       "18.78"
      ]
     },
     "execution_count": 73,
     "metadata": {},
     "output_type": "execute_result"
    }
   ],
   "source": [
    "#### Correct the code below\n",
    "#### Run it to find the maximum bill for dinner time on Thursday\n",
    "\n",
    "df.total_bill[(df.day == 'Thur') & (df.time == 'Dinner')].max()"
   ]
  },
  {
   "cell_type": "markdown",
   "id": "1f77def8",
   "metadata": {},
   "source": [
    "<div class=\"alert alert-block alert-success\">\n",
    "\n",
    "### Question 7 Response\n",
    "    \n",
    "a) Describe one error in the code. \n",
    "    \n",
    "    - One error is using 'and' instead of '&' within pandas. 'Dinner' should be capitolized, 'Thursday' should be 'Thur', need square brackets on outside.\n",
    "    \n",
    "b) What is the maximum bill for dinner time on Thursday?\n",
    "    \n",
    "    - 18.78"
   ]
  },
  {
   "cell_type": "markdown",
   "id": "e8568525",
   "metadata": {},
   "source": [
    "---\n",
    "<div class=\"alert alert-block alert-info\">\n",
    "    \n",
    "## Question 8\n",
    "    \n",
    "\n",
    "a) Rename the column named `size` to `table_size`. \n",
    "\n",
    "\n",
    "Make sure this column name replaces the former column name. \n"
   ]
  },
  {
   "cell_type": "code",
   "execution_count": 85,
   "id": "e68fd65d",
   "metadata": {},
   "outputs": [
    {
     "data": {
      "text/html": [
       "<div>\n",
       "<style scoped>\n",
       "    .dataframe tbody tr th:only-of-type {\n",
       "        vertical-align: middle;\n",
       "    }\n",
       "\n",
       "    .dataframe tbody tr th {\n",
       "        vertical-align: top;\n",
       "    }\n",
       "\n",
       "    .dataframe thead th {\n",
       "        text-align: right;\n",
       "    }\n",
       "</style>\n",
       "<table border=\"1\" class=\"dataframe\">\n",
       "  <thead>\n",
       "    <tr style=\"text-align: right;\">\n",
       "      <th></th>\n",
       "      <th>total_bill</th>\n",
       "      <th>tip</th>\n",
       "      <th>sex</th>\n",
       "      <th>smoker</th>\n",
       "      <th>day</th>\n",
       "      <th>time</th>\n",
       "      <th>table_size</th>\n",
       "      <th>percent_tip</th>\n",
       "    </tr>\n",
       "  </thead>\n",
       "  <tbody>\n",
       "    <tr>\n",
       "      <th>1</th>\n",
       "      <td>16.99</td>\n",
       "      <td>1.01</td>\n",
       "      <td>Female</td>\n",
       "      <td>No</td>\n",
       "      <td>Sat</td>\n",
       "      <td>Dinner</td>\n",
       "      <td>2</td>\n",
       "      <td>0.06</td>\n",
       "    </tr>\n",
       "    <tr>\n",
       "      <th>2</th>\n",
       "      <td>10.34</td>\n",
       "      <td>1.66</td>\n",
       "      <td>Male</td>\n",
       "      <td>No</td>\n",
       "      <td>Sat</td>\n",
       "      <td>Dinner</td>\n",
       "      <td>3</td>\n",
       "      <td>0.16</td>\n",
       "    </tr>\n",
       "    <tr>\n",
       "      <th>3</th>\n",
       "      <td>21.01</td>\n",
       "      <td>3.50</td>\n",
       "      <td>Male</td>\n",
       "      <td>No</td>\n",
       "      <td>Sat</td>\n",
       "      <td>Dinner</td>\n",
       "      <td>3</td>\n",
       "      <td>0.17</td>\n",
       "    </tr>\n",
       "    <tr>\n",
       "      <th>4</th>\n",
       "      <td>23.68</td>\n",
       "      <td>3.31</td>\n",
       "      <td>Male</td>\n",
       "      <td>No</td>\n",
       "      <td>Sat</td>\n",
       "      <td>Dinner</td>\n",
       "      <td>2</td>\n",
       "      <td>0.14</td>\n",
       "    </tr>\n",
       "    <tr>\n",
       "      <th>5</th>\n",
       "      <td>24.59</td>\n",
       "      <td>3.61</td>\n",
       "      <td>Female</td>\n",
       "      <td>No</td>\n",
       "      <td>Sat</td>\n",
       "      <td>Dinner</td>\n",
       "      <td>4</td>\n",
       "      <td>0.15</td>\n",
       "    </tr>\n",
       "    <tr>\n",
       "      <th>...</th>\n",
       "      <td>...</td>\n",
       "      <td>...</td>\n",
       "      <td>...</td>\n",
       "      <td>...</td>\n",
       "      <td>...</td>\n",
       "      <td>...</td>\n",
       "      <td>...</td>\n",
       "      <td>...</td>\n",
       "    </tr>\n",
       "    <tr>\n",
       "      <th>240</th>\n",
       "      <td>29.03</td>\n",
       "      <td>5.92</td>\n",
       "      <td>Male</td>\n",
       "      <td>No</td>\n",
       "      <td>Sat</td>\n",
       "      <td>Dinner</td>\n",
       "      <td>3</td>\n",
       "      <td>0.20</td>\n",
       "    </tr>\n",
       "    <tr>\n",
       "      <th>241</th>\n",
       "      <td>27.18</td>\n",
       "      <td>2.00</td>\n",
       "      <td>Female</td>\n",
       "      <td>Yes</td>\n",
       "      <td>Sat</td>\n",
       "      <td>Dinner</td>\n",
       "      <td>2</td>\n",
       "      <td>0.07</td>\n",
       "    </tr>\n",
       "    <tr>\n",
       "      <th>242</th>\n",
       "      <td>22.67</td>\n",
       "      <td>2.00</td>\n",
       "      <td>Male</td>\n",
       "      <td>Yes</td>\n",
       "      <td>Sat</td>\n",
       "      <td>Dinner</td>\n",
       "      <td>2</td>\n",
       "      <td>0.09</td>\n",
       "    </tr>\n",
       "    <tr>\n",
       "      <th>243</th>\n",
       "      <td>17.82</td>\n",
       "      <td>1.75</td>\n",
       "      <td>Male</td>\n",
       "      <td>No</td>\n",
       "      <td>Sat</td>\n",
       "      <td>Dinner</td>\n",
       "      <td>2</td>\n",
       "      <td>0.10</td>\n",
       "    </tr>\n",
       "    <tr>\n",
       "      <th>244</th>\n",
       "      <td>18.78</td>\n",
       "      <td>3.00</td>\n",
       "      <td>Female</td>\n",
       "      <td>No</td>\n",
       "      <td>Sat</td>\n",
       "      <td>Dinner</td>\n",
       "      <td>2</td>\n",
       "      <td>0.16</td>\n",
       "    </tr>\n",
       "  </tbody>\n",
       "</table>\n",
       "<p>244 rows × 8 columns</p>\n",
       "</div>"
      ],
      "text/plain": [
       "     total_bill   tip     sex smoker  day    time  table_size  percent_tip\n",
       "1         16.99  1.01  Female     No  Sat  Dinner           2         0.06\n",
       "2         10.34  1.66    Male     No  Sat  Dinner           3         0.16\n",
       "3         21.01  3.50    Male     No  Sat  Dinner           3         0.17\n",
       "4         23.68  3.31    Male     No  Sat  Dinner           2         0.14\n",
       "5         24.59  3.61  Female     No  Sat  Dinner           4         0.15\n",
       "..          ...   ...     ...    ...  ...     ...         ...          ...\n",
       "240       29.03  5.92    Male     No  Sat  Dinner           3         0.20\n",
       "241       27.18  2.00  Female    Yes  Sat  Dinner           2         0.07\n",
       "242       22.67  2.00    Male    Yes  Sat  Dinner           2         0.09\n",
       "243       17.82  1.75    Male     No  Sat  Dinner           2         0.10\n",
       "244       18.78  3.00  Female     No  Sat  Dinner           2         0.16\n",
       "\n",
       "[244 rows x 8 columns]"
      ]
     },
     "execution_count": 85,
     "metadata": {},
     "output_type": "execute_result"
    }
   ],
   "source": [
    "df = df.rename(columns = {'size':'table_size'})\n",
    "df\n",
    "\n",
    "#I used the .rename() functions to complete the request, then redefined the dataframe to replace it."
   ]
  },
  {
   "cell_type": "markdown",
   "id": "bd522803",
   "metadata": {},
   "source": [
    "<div class=\"alert alert-block alert-success\">\n",
    "\n",
    "### Question 8 Response\n",
    "\n",
    "    \n",
    "a) List the column names of the dataframe below\n",
    "    \n",
    "    "
   ]
  },
  {
   "cell_type": "code",
   "execution_count": 86,
   "id": "ffae10f4",
   "metadata": {},
   "outputs": [
    {
     "data": {
      "text/plain": [
       "Index(['total_bill', 'tip', 'sex', 'smoker', 'day', 'time', 'table_size',\n",
       "       'percent_tip'],\n",
       "      dtype='object')"
      ]
     },
     "execution_count": 86,
     "metadata": {},
     "output_type": "execute_result"
    }
   ],
   "source": [
    "df.columns\n",
    "# used .columns to return names of each column"
   ]
  },
  {
   "cell_type": "markdown",
   "id": "e79587aa",
   "metadata": {},
   "source": [
    "---\n",
    "<div class=\"alert alert-block alert-info\">\n",
    "    \n",
    "## Question 9\n",
    "\n",
    "- Use matplotlib to create a **scatter plot** for total_bill and tips. \n",
    "    - Plot total_bill along the x-axis\n",
    "\n",
    "- Customize the visualization in at least one way.\n",
    "\n",
    "- Add descriptive axis labels and titles.\n"
   ]
  },
  {
   "cell_type": "markdown",
   "id": "78240b79",
   "metadata": {},
   "source": [
    "<div class=\"alert alert-block alert-success\">\n",
    "    \n",
    "### Question 9 Response\n",
    "\n"
   ]
  },
  {
   "cell_type": "code",
   "execution_count": 91,
   "id": "96a873c0",
   "metadata": {},
   "outputs": [
    {
     "data": {
      "image/png": "[encoded data removed]",
      "text/plain": [
       "<Figure size 640x480 with 1 Axes>"
      ]
     },
     "metadata": {},
     "output_type": "display_data"
    }
   ],
   "source": [
    "plt.scatter(df.total_bill, df.tip, c = 'red') #created scatter plot with total_bill on x axis and tip on y, customized with red \n",
    "plt.title('Total Bill vs Tips') # added title\n",
    "plt.xlabel('Total Bill') #label x axis\n",
    "plt.ylabel('Tips') #label y axis\n",
    "plt.show() #show me the table"
   ]
  },
  {
   "cell_type": "markdown",
   "id": "b50ad563",
   "metadata": {},
   "source": [
    "<div class=\"alert alert-block alert-info\">\n",
    "    \n",
    "## Question 10\n",
    "\n",
    "- Use matplotlib to create a **histogram** for total bill\n",
    "\n",
    "- Customize the visualization in at least one way.\n",
    "\n",
    "- Add descriptive axis labels and titles.\n"
   ]
  },
  {
   "cell_type": "markdown",
   "id": "eaaf577f",
   "metadata": {},
   "source": [
    "<div class=\"alert alert-block alert-success\">\n",
    "\n",
    "### Question 10 Response"
   ]
  },
  {
   "cell_type": "code",
   "execution_count": 100,
   "id": "3c13b57e",
   "metadata": {},
   "outputs": [
    {
     "data": {
      "image/png": "[encoded data removed]",
      "text/plain": [
       "<Figure size 640x480 with 1 Axes>"
      ]
     },
     "metadata": {},
     "output_type": "display_data"
    }
   ],
   "source": [
    "x = [df.total_bill] #define x as the total bill amounts\n",
    "plt.hist(x, color='white', edgecolor='black') #plot the amounts as a histogram, customized with white/black colors\n",
    "plt.title('Histogram of Total Bills') # added title\n",
    "plt.xlabel('Total Bill Amount') #label x axis\n",
    "plt.ylabel('Frequency') #label y axis\n",
    "plt.show() #show me the table"
   ]
  },
  {
   "cell_type": "markdown",
   "id": "bb9d68e3",
   "metadata": {},
   "source": []
  }
 ],
 "metadata": {
  "kernelspec": {
   "display_name": "Python 3 (ipykernel)",
   "language": "python",
   "name": "python3"
  },
  "language_info": {
   "codemirror_mode": {
    "name": "ipython",
    "version": 3
   },
   "file_extension": ".py",
   "mimetype": "text/x-python",
   "name": "python",
   "nbconvert_exporter": "python",
   "pygments_lexer": "ipython3",
   "version": "3.9.13"
  }
 },
 "nbformat": 4,
 "nbformat_minor": 5
}
